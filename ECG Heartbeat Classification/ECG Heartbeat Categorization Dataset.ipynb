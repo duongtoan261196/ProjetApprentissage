{
 "cells": [
  {
   "cell_type": "markdown",
   "metadata": {},
   "source": [
    "# ECG Heartbeat Classification\n",
    "\n",
    "* [Paper](https://arxiv.org/pdf/1805.00794.pdf)\n",
    "\n",
    "Signification des labels :\n",
    "\n",
    "| Category(data)        |  Category(Paper)     | Annotations  |\n",
    "| ------------- |:-------------:| -----:|\n",
    "|0|N| <ul><li>Normal</li><li>Left/Right bundle branch block</li><li>Arial escape</li><li>Nodal escape</li></ul>  |\n",
    "|1|S| <ul><li>Atrial premature</li><li>Aberrant atrial premature</li><li>Nodal premature</li><li>Supra-ventricular premature</li></ul> |\n",
    "|2|V| <ul><li>Premature ventricular contraction</li><li>Ventricular escape</li></ul> |\n",
    "|3|F| <ul><li>Fusion of ventricular and normal</li></ul> |\n",
    "|4|Q| <ul><li>Paced</li><li>Fusion of paced and normal</li><li>Unclassifiable</li></ul> |\n",
    "\n"
   ]
  },
  {
   "cell_type": "markdown",
   "metadata": {},
   "source": [
    "# Librairies"
   ]
  },
  {
   "cell_type": "code",
   "execution_count": null,
   "metadata": {
    "collapsed": true
   },
   "outputs": [],
   "source": [
    "%matplotlib inline\n",
    "\n",
    "import pandas as pd\n",
    "import numpy as np\n",
    "import seaborn as sb\n",
    "import scipy as sc\n",
    "sb.set_style(\"whitegrid\")\n",
    "import matplotlib.pyplot as plt\n",
    "\n",
    "\n",
    "CMAP = plt.get_cmap(\"Set1\")\n",
    "COLOR = [CMAP(k) for k in range(5)]\n",
    "NAME_DIC = {k:v for k,v in zip([0,1,2,3,4],['N','S','V','F','Q'])}"
   ]
  },
  {
   "cell_type": "markdown",
   "metadata": {},
   "source": [
    "# Lecture des données\n",
    "\n",
    "*In all of our experiments, we have used ECG lead II re-sampled to the sampling frequency of 125Hz as the input.*\n",
    "\n",
    "Sampling : 125HZ, ie, a value every 0.008 seconds. One signal has 187 values over 1.488s "
   ]
  },
  {
   "cell_type": "code",
   "execution_count": null,
   "metadata": {
    "collapsed": true
   },
   "outputs": [],
   "source": [
    "# Nom des colonnes\n",
    "Colnames = [str(k) for k in range(187)] + [\"label\"]"
   ]
  },
  {
   "cell_type": "code",
   "execution_count": null,
   "metadata": {},
   "outputs": [],
   "source": [
    "# Train\n",
    "mitbih_train = pd.read_csv(\"mitbih_train.csv.zip\", header=None, names=Colnames)\n",
    "N_train = mitbih_train.shape[0]\n",
    "print(mitbih_train.shape)\n",
    "mitbih_train.head(5)"
   ]
  },
  {
   "cell_type": "code",
   "execution_count": null,
   "metadata": {},
   "outputs": [],
   "source": [
    "# Test\n",
    "mitbih_test = pd.read_csv(\"mitbih_test.csv.zip\", header=None, names = Colnames)\n",
    "N_test = mitbih_test.shape[0]\n",
    "print(mitbih_test.shape)\n",
    "mitbih_test.head(5)"
   ]
  },
  {
   "cell_type": "markdown",
   "metadata": {},
   "source": [
    "## Illustration "
   ]
  },
  {
   "cell_type": "markdown",
   "metadata": {},
   "source": [
    "### Exemple"
   ]
  },
  {
   "cell_type": "code",
   "execution_count": null,
   "metadata": {},
   "outputs": [],
   "source": [
    "xsec = np.arange(187)*0.008\n",
    "\n",
    "fig = plt.figure(figsize=(15,7))\n",
    "ax = fig.add_subplot(1,1,1)\n",
    "ax.plot(xsec,mitbih_train.values[1,:-1])\n",
    "ax.set_xlabel(\"seconds\")\n",
    "ax.set_ylabel(\"Amplitude\")\n",
    "plt.show()"
   ]
  },
  {
   "cell_type": "code",
   "execution_count": null,
   "metadata": {
    "code_folding": []
   },
   "outputs": [],
   "source": [
    "fig = plt.figure(figsize=(15,10))\n",
    "for i,(k,v) in enumerate(mitbih_train.groupby(\"label\")):\n",
    "    ax = fig.add_subplot(3,2,i+1)\n",
    "    ax.plot(v.values[:10,:-1].T, color=COLOR[int(k)])\n",
    "    ax.set_title(NAME_DIC[k])\n",
    "    ax.set_xlabel(\"seconds\")\n",
    "    ax.set_ylabel(\"Amplitude\")\n",
    "plt.show()"
   ]
  },
  {
   "cell_type": "markdown",
   "metadata": {},
   "source": [
    "# Répartition des catégories"
   ]
  },
  {
   "cell_type": "markdown",
   "metadata": {},
   "source": [
    "## Test"
   ]
  },
  {
   "cell_type": "code",
   "execution_count": null,
   "metadata": {},
   "outputs": [],
   "source": [
    "data_count = mitbih_test.label.astype(int).value_counts()\n",
    "#Rename index to add percentage\n",
    "new_index = [\"Classe :\" + NAME_DIC[k]+ \": %.2f%%\" %(v*100/N_test) for k,v in data_count.iteritems()]\n",
    "\n",
    "fig=plt.figure(figsize= (10,10))\n",
    "ax = fig.add_subplot(1,1,1)\n",
    "ax.barh(range(5), data_count.values, 0.9, color = COLOR, tick_label = new_index)\n",
    "for k in range(5):\n",
    "    ax.text(data_count.values[k], k, str(data_count.values[k]))\n",
    "plt.show()\n"
   ]
  },
  {
   "cell_type": "markdown",
   "metadata": {},
   "source": [
    "## Train"
   ]
  },
  {
   "cell_type": "code",
   "execution_count": null,
   "metadata": {},
   "outputs": [],
   "source": [
    "data_count = mitbih_train.label.astype(int).value_counts()\n",
    "#Rename index to add percentage\n",
    "new_index = [\"Classe :\" + NAME_DIC[k]+ \": %.2f%%\" %(v*100/N_train) for k,v in data_count.iteritems()]\n",
    "\n",
    "fig=plt.figure(figsize= (10,10))\n",
    "ax = fig.add_subplot(1,1,1)\n",
    "ax.barh(range(5), data_count.values, 0.9, color = COLOR, tick_label = new_index)\n",
    "for k in range(5):\n",
    "    ax.text(data_count.values[k], k, str(data_count.values[k]))\n",
    "\n",
    "plt.show()"
   ]
  },
  {
   "cell_type": "markdown",
   "metadata": {},
   "source": [
    "## Augmentation des données\n",
    "\n",
    "Les données sont fortement déséquilibrées. Particulièrement la classe \"F\" qui ne possèdent que 641 éléments dans l'apprentissage. Pour corriger cela on peut pocéder à \n",
    "    * de l'oversampling, en dupliquant certaines série\n",
    "    * de l'augmentation de données, en créant de nouveaux signaux par déformation des signaux existant"
   ]
  },
  {
   "cell_type": "markdown",
   "metadata": {},
   "source": [
    "### Amplify\n",
    "\n",
    "Amplifie le signal suivant la formule suivante : \n",
    "\n",
    "new_x =  $-\\alpha\\cdot x^2 + -\\alpha\\cdot x^2 + x$ avec $-0.5<\\alpha<0.5$"
   ]
  },
  {
   "cell_type": "code",
   "execution_count": null,
   "metadata": {},
   "outputs": [],
   "source": [
    "def amplify(x):\n",
    "    alpha = (np.random.random()-0.5)\n",
    "    factor = -alpha*x + (1+alpha)\n",
    "    return x*factor\n",
    "\n",
    "x_toy = mitbih_train.groupby(\"label\").get_group(3).values[0,:-1]\n",
    "fig = plt.figure(figsize=(10,5))\n",
    "ax = fig.add_subplot(1,1,1)\n",
    "ax.plot(xsec,x_toy, label = 'original signal')\n",
    "ax.plot(xsec,amplify(x_toy), label = 'amplify signal')\n",
    "plt.legend()\n"
   ]
  },
  {
   "cell_type": "markdown",
   "metadata": {},
   "source": [
    "### Stretch\n",
    "\n",
    "Etire ou \"compresse\" le signal. Cette étape est effectué grace à la fonction *resample* du package *scipy.signal* qui permet de ré-echantilloner un signal grace à une transformé de Fourier."
   ]
  },
  {
   "cell_type": "code",
   "execution_count": null,
   "metadata": {},
   "outputs": [],
   "source": [
    "from scipy.signal import resample\n",
    "def stretch(x):\n",
    "    l = int(187 * (1 + (np.random.random()-0.5)/3))\n",
    "    y = sc.signal.resample(x, l)\n",
    "    if l < 187:\n",
    "        y_ = np.zeros(shape=(187, ))\n",
    "        y_[:l] = y\n",
    "    else:\n",
    "        y_ = y[:187]\n",
    "    return y_\n",
    "\n",
    "fig = plt.figure(figsize=(10,5))\n",
    "ax = fig.add_subplot(1,1,1)\n",
    "ax.plot(xsec,x_toy, label = 'original signal')\n",
    "ax.plot(xsec,stretch(x_toy), label = 'Stretch signal')\n",
    "plt.legend()"
   ]
  },
  {
   "cell_type": "markdown",
   "metadata": {},
   "source": [
    "En utilisant une de ces deux fonctions, ou en combinant les deux, il est alors possible de créer de nouveau signaux."
   ]
  },
  {
   "cell_type": "markdown",
   "metadata": {},
   "source": [
    "# Création de Features"
   ]
  },
  {
   "cell_type": "code",
   "execution_count": null,
   "metadata": {
    "collapsed": true
   },
   "outputs": [],
   "source": [
    "X_train = mitbih_train.values[:,:-1]\n",
    "Y_train = mitbih_train.values[:,-1]\n",
    "\n",
    "X_test = mitbih_test.values[:,:-1]\n",
    "Y_test = mitbih_test.values[:,-1]"
   ]
  },
  {
   "cell_type": "markdown",
   "metadata": {},
   "source": [
    "## General Features"
   ]
  },
  {
   "cell_type": "markdown",
   "metadata": {},
   "source": [
    "### Dyadique"
   ]
  },
  {
   "cell_type": "code",
   "execution_count": null,
   "metadata": {},
   "outputs": [],
   "source": [
    "X_train.shape"
   ]
  },
  {
   "cell_type": "code",
   "execution_count": null,
   "metadata": {},
   "outputs": [],
   "source": [
    "def basic_features(X):\n",
    "    basic_features_list = []\n",
    "    basic_features_list.append(np.mean(X, axis=1))\n",
    "    basic_features_list.append(np.median(X, axis=1))\n",
    "    basic_features_list.append(np.max(X, axis=1))\n",
    "    basic_features_list.append(np.argmax(X, axis=1))\n",
    "    basic_features_list.append(np.std(X ,axis=1))\n",
    "    basic_features_list.append(np.apply_along_axis(sc.stats.entropy, 1, X))\n",
    "    basic_features_list.append(np.apply_along_axis(sc.stats.skew, 1, X))\n",
    "    basic_features_list.append(np.apply_along_axis(sc.stats.kurtosis, 1, X))\n",
    "\n",
    "    X_bf = np.vstack(basic_features_list).T\n",
    "    return X_bf\n",
    "\n",
    "X_train_bf = basic_features(X_train)\n",
    "print(X_train_bf.shape)\n",
    "X_test_bf = basic_features(X_test)\n",
    "print(X_test_bf.shape)"
   ]
  },
  {
   "cell_type": "code",
   "execution_count": null,
   "metadata": {},
   "outputs": [],
   "source": [
    "def basic_features_per_block(X, n_block=None, n_step=None):\n",
    "    N = X.shape[1]\n",
    "    if not(n_block is None) and not(n_step is None):\n",
    "        raise ValueError(\"You can't specify both n_block AND n_step\")\n",
    "    elif (n_block is None) and (n_step is None):\n",
    "        raise ValueError(\"You have to specify  either n_block OR n_step\")\n",
    "    elif n_block is None:\n",
    "        blocks = np.hstack((np.arange(0,N,n_step),N))\n",
    "    else:\n",
    "        blocks = np.linspace(0,N,n_block+1,dtype=int)\n",
    "    basic_features_per_block = []\n",
    "    n_blocks = len(blocks)-1\n",
    "    for s_block, e_block in [blocks[k:k+2] for k in range(n_blocks)] :\n",
    "        basic_features_per_block.append(basic_features(X[:,s_block:e_block]))\n",
    "        \n",
    "    return np.hstack(basic_features_per_block), blocks\n",
    "\n",
    "X_train_bfpb, blocks = basic_features_per_block(X_train, n_block=4, n_step=None)\n",
    "print(X_train_bfpb.shape)\n",
    "X_test_bfpb, blocks = basic_features_per_block(X_test, n_block=4, n_step=None)\n",
    "print(X_test_bfpb.shape)"
   ]
  },
  {
   "cell_type": "code",
   "execution_count": null,
   "metadata": {},
   "outputs": [],
   "source": [
    "#LONG!\n",
    "def basic_features_dyadique(X, power):\n",
    "    N = X.shape[1]\n",
    "    basic_features_dyatique = []\n",
    "    for p in range(power+1):\n",
    "        basic_features_dyatique.append(basic_features_per_block(X, n_block=2**p)[0])\n",
    "    [print(k.shape) for k in basic_features_dyatique ]\n",
    "    return np.hstack(basic_features_dyatique)\n",
    "\n",
    "X_train_bfd = basic_features_dyadique(X_train, power=2)\n",
    "print(X_train_bfd.shape)\n",
    "X_test_bfd = basic_features_dyadique(X_test, power=2)\n",
    "print(X_test_bfd.shape)"
   ]
  },
  {
   "cell_type": "markdown",
   "metadata": {},
   "source": [
    "### ACP"
   ]
  },
  {
   "cell_type": "code",
   "execution_count": null,
   "metadata": {
    "collapsed": true
   },
   "outputs": [],
   "source": [
    "def plot_variance_acp(fig, acp, X_acp, whis=1.5): \n",
    "    ax = fig.add_subplot(1,2,1)\n",
    "    ax.bar(range(10), acp.explained_variance_ratio_[:10]*100, align='center',\n",
    "        color='grey', ecolor='black')\n",
    "    ax.set_xticks(range(10))\n",
    "    ax.set_ylabel(\"Variance\")\n",
    "    ax.set_title(\"\", fontsize=35)\n",
    "    ax.set_title(\"Pourcentage de variance expliquee \\n des premieres composantes\", fontsize=20)\n",
    "    \n",
    "    ax = fig.add_subplot(1,2,2)\n",
    "    box=ax.boxplot(X_acp[:,0:10], whis=whis)\n",
    "    ax.set_title(\"Distribution des premieres composantes\", fontsize=20)\n",
    "    \n",
    "def plot_pca(ax, X, acp, nbc, nbc2, colors, markersizes):\n",
    "    ax.scatter(X[:,nbc-1],X[:,nbc2-1],marker=\".\", color= colors, s=markersizes)\n",
    "    ax.set_xlabel(\"PC%d : %.2f %%\" %(nbc,acp.explained_variance_ratio_[nbc-1]*100), fontsize=15)\n",
    "    ax.set_ylabel(\"PC%d : %.2f %%\" %(nbc2,acp.explained_variance_ratio_[nbc2-1]*100), fontsize=15)\n"
   ]
  },
  {
   "cell_type": "code",
   "execution_count": null,
   "metadata": {
    "collapsed": true
   },
   "outputs": [],
   "source": [
    "import sklearn.decomposition as sdec \n",
    "pca = sdec.PCA()\n",
    "X_r = pca.fit_transform(mitbih_train.values[:,:-1])"
   ]
  },
  {
   "cell_type": "code",
   "execution_count": null,
   "metadata": {},
   "outputs": [],
   "source": [
    "fig = plt.figure(figsize=(15,10))\n",
    "plot_variance_acp(fig, pca, X_r, whis=100)\n",
    "fig.suptitle(\"Résultat ACP\", fontsize=25)"
   ]
  },
  {
   "cell_type": "code",
   "execution_count": null,
   "metadata": {},
   "outputs": [],
   "source": [
    "colors=[COLOR[int(y)] for y in mitbih_train.values[:,-1]]\n",
    "markersizes = [20 for _ in range(N_train)]\n",
    "fig = plt.figure(figsize=(10,10), )\n",
    "ax = fig.add_subplot(1,1,1)\n",
    "plot_pca(ax,X_r, pca, 1, 2, colors, markersizes)"
   ]
  },
  {
   "cell_type": "markdown",
   "metadata": {},
   "source": [
    "### FDA"
   ]
  },
  {
   "cell_type": "code",
   "execution_count": null,
   "metadata": {
    "collapsed": true
   },
   "outputs": [],
   "source": [
    "import sklearn.discriminant_analysis as sda\n",
    "method = sda.LinearDiscriminantAnalysis() \n",
    "lda=method.fit(mitbih_train.values[:,:-1],mitbih_train.values[:,-1])\n",
    "X_r2=lda.transform(mitbih_train.values[:,:-1])"
   ]
  },
  {
   "cell_type": "code",
   "execution_count": null,
   "metadata": {},
   "outputs": [],
   "source": [
    "colors=[COLOR[int(y)] for y in mitbih_train.values[:,-1]]\n",
    "markersizes = [20 for _ in range(N_train)]\n",
    "fig = plt.figure(figsize=(10,10), )\n",
    "ax = fig.add_subplot(1,1,1)\n",
    "plot_pca(ax,X_r2, lda, 1, 2, colors, markersizes)"
   ]
  },
  {
   "cell_type": "markdown",
   "metadata": {},
   "source": [
    "### Ondelette"
   ]
  },
  {
   "cell_type": "code",
   "execution_count": null,
   "metadata": {
    "collapsed": true
   },
   "outputs": [],
   "source": [
    "def coef_pyramid_plot(ax, coefs, first=0, scale='uniform'):\n",
    "    n_levels = len(coefs)\n",
    "    n = 2**(n_levels - 1) # assumes periodic\n",
    "\n",
    "    if scale == 'uniform':\n",
    "        biggest = [np.max(np.abs(np.hstack(coefs)))] * n_levels\n",
    "    else:\n",
    "        # multiply by 2 so the highest bars only take up .5\n",
    "        biggest = [np.max(np.abs(i))*2 for i in coefs]\n",
    "\n",
    "    for i in range(first,n_levels):\n",
    "        x = np.linspace(2**(n_levels - 2 - i), n - 2**(n_levels - 2 - i), 2**i)\n",
    "        ymin = n_levels - i - 1 + first\n",
    "        yheight = coefs[i]/biggest[i]\n",
    "        ymax = yheight + ymin\n",
    "        ax.vlines(x, ymin, ymax, linewidth=1.1)\n",
    "\n",
    "    ax.set_xlim(0,n)\n",
    "    ax.set_ylim(first - 1, n_levels)\n",
    "    ax.yaxis.set_ticks(np.arange(n_levels-1,first-1,-1))\n",
    "    ax.yaxis.set_ticklabels(np.arange(first,n_levels))\n",
    "    ax.tick_params(top=False, right=False, direction='out', pad=6)\n",
    "    ax.set_ylabel(\"Levels\", fontsize=14)\n",
    "    ax.grid(True, alpha=.85, color='white', axis='y', linestyle='-')\n",
    "    ax.set_title('Wavelet Detail Coefficients', fontsize=16,\n",
    "            position=(.5,1.05))"
   ]
  },
  {
   "cell_type": "code",
   "execution_count": null,
   "metadata": {
    "collapsed": true
   },
   "outputs": [],
   "source": [
    "import pywt\n",
    "from pywt import wavedec"
   ]
  },
  {
   "cell_type": "code",
   "execution_count": null,
   "metadata": {},
   "outputs": [],
   "source": [
    "fig = plt.figure(figsize=(15,8))\n",
    "ax=fig.add_subplot(1,1,1)\n",
    "coef = pywt.wavedec(mitbih_train.values[:,:-1], 'db1')\n",
    "coef_pyramid_plot(ax, coef[1:]) ;\n",
    "fig.tight_layout()"
   ]
  },
  {
   "cell_type": "code",
   "execution_count": null,
   "metadata": {
    "collapsed": true
   },
   "outputs": [],
   "source": [
    "X_train_db = np.concatenate(pywt.wavedec(mitbih_train.values[:,:-1], 'db1'), axis=1)\n",
    "## ACP \n",
    "pca = sdec.PCA()\n",
    "X_train_db_pca = pca.fit_transform(X_train_db)"
   ]
  },
  {
   "cell_type": "code",
   "execution_count": null,
   "metadata": {},
   "outputs": [],
   "source": [
    "fig = plt.figure(figsize=(15,10))\n",
    "plot_variance_acp(fig, pca, X_train_db_pca)"
   ]
  },
  {
   "cell_type": "code",
   "execution_count": null,
   "metadata": {},
   "outputs": [],
   "source": [
    "colors=[COLOR[int(y)] for y in mitbih_train.values[:,-1]]\n",
    "markersizes = [20 for _ in range(N_train)]\n",
    "fig = plt.figure(figsize=(10,10), )\n",
    "ax = fig.add_subplot(1,1,1)\n",
    "plot_pca(ax,X_train_db_pca, pca, 1, 2, colors, markersizes)"
   ]
  }
 ],
 "metadata": {
  "hide_input": false,
  "kernelspec": {
   "display_name": "Python [conda env:TPinsa]",
   "language": "python",
   "name": "conda-env-TPinsa-py"
  },
  "language_info": {
   "codemirror_mode": {
    "name": "ipython",
    "version": 3
   },
   "file_extension": ".py",
   "mimetype": "text/x-python",
   "name": "python",
   "nbconvert_exporter": "python",
   "pygments_lexer": "ipython3",
   "version": "3.5.3"
  },
  "toc": {
   "nav_menu": {},
   "number_sections": true,
   "sideBar": true,
   "skip_h1_title": false,
   "toc_cell": false,
   "toc_position": {},
   "toc_section_display": "block",
   "toc_window_display": true
  }
 },
 "nbformat": 4,
 "nbformat_minor": 2
}
